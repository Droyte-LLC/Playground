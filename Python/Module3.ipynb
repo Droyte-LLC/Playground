{
 "cells": [
  {
   "cell_type": "code",
   "execution_count": null,
   "id": "d6de7055-a8d9-43d3-b0d0-3ce77cdafedc",
   "metadata": {},
   "outputs": [],
   "source": [
    "# Import necessary libraries\n",
    "import pandas as pd\n",
    "import numpy as np\n",
    "import os\n",
    "\n",
    "# Print the current working directory\n",
    "print(\"Current Working Directory:\", os.getcwd())\n",
    "\n",
    "# Load the dataset from a CSV file\n",
    "df = pd.read_csv(\"./StockMarketDataset.csv\")\n",
    "\n",
    "# Display the first 5 rows of the DataFrame\n",
    "print(\"First 5 rows of the dataset:\")\n",
    "print(df.head())"
   ]
  },
  {
   "cell_type": "code",
   "execution_count": null,
   "id": "6fcf0325-7b48-480e-9649-a1199e4ac933",
   "metadata": {},
   "outputs": [],
   "source": [
    "# Lists all the columns\n",
    "print(df.columns.tolist())"
   ]
  },
  {
   "cell_type": "code",
   "execution_count": null,
   "id": "eb8a79f3-f6f8-469f-902b-e97982484295",
   "metadata": {},
   "outputs": [],
   "source": [
    "# Checks for missing (null/NaN) values in a DataFrame (df), returns count of null values in each column\n",
    "# Example: \n",
    "\n",
    "#Returns the count of null values in each column\n",
    "df.isnull().sum()"
   ]
  },
  {
   "cell_type": "code",
   "execution_count": null,
   "id": "be69b9c3-518b-47bc-ac9e-9fefefe8031d",
   "metadata": {},
   "outputs": [],
   "source": [
    "df.describe()"
   ]
  },
  {
   "cell_type": "code",
   "execution_count": null,
   "id": "d587ea77-9e52-42dd-8933-9b40939c290d",
   "metadata": {},
   "outputs": [],
   "source": [
    "df[\"Date\"] = pd.to_datetime(df[\"Date\"], format=\"%d-%m-%Y\")\n",
    "df = df.sort_values(\"Date\")\n",
    "print(df[\"Date\"])"
   ]
  },
  {
   "cell_type": "code",
   "execution_count": null,
   "id": "42c170b9-efc4-4fea-8580-d2f78341c8d5",
   "metadata": {},
   "outputs": [],
   "source": [
    "df[\"Apple_Return\"] = df[\"Apple_Price\"].pct_change()"
   ]
  },
  {
   "cell_type": "code",
   "execution_count": null,
   "id": "4852f7f0-03c1-4f9d-83cc-ad693ff6c6a3",
   "metadata": {},
   "outputs": [],
   "source": [
    "print(df[\"Apple_Price\"].pct_change())"
   ]
  },
  {
   "cell_type": "code",
   "execution_count": null,
   "id": "dd340a4c-f4e4-4611-bdd8-a91f18e9e2af",
   "metadata": {},
   "outputs": [],
   "source": []
  }
 ],
 "metadata": {
  "kernelspec": {
   "display_name": "Python 3 (ipykernel)",
   "language": "python",
   "name": "python3"
  },
  "language_info": {
   "codemirror_mode": {
    "name": "ipython",
    "version": 3
   },
   "file_extension": ".py",
   "mimetype": "text/x-python",
   "name": "python",
   "nbconvert_exporter": "python",
   "pygments_lexer": "ipython3",
   "version": "3.13.2"
  }
 },
 "nbformat": 4,
 "nbformat_minor": 5
}
